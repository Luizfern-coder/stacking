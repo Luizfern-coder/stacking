{
  "nbformat": 4,
  "nbformat_minor": 0,
  "metadata": {
    "colab": {
      "provenance": []
    },
    "kernelspec": {
      "name": "python3",
      "display_name": "Python 3"
    },
    "language_info": {
      "name": "python"
    }
  },
  "cells": [
    {
      "cell_type": "markdown",
      "source": [
        "## Stacking - Empilhamento de Algoritmos"
      ],
      "metadata": {
        "id": "5dlcMkH8T8Pr"
      }
    },
    {
      "cell_type": "markdown",
      "source": [
        "O stacking ou empilhamento é uma forma de aprendizado de maquina conjunta. Ele usa um algoritmo de metalearning para aprender a melhor combinar as previsões de duas ou mais **máquinas básicas**. \n",
        "\n",
        "O beneficio do empilhamento é que ele pode aproveitar os recursos de uma variedade de modelos de bom desempenho em uma tarefa de classificação ou regressão e fazer previões que podem ter melhor desempenho do que qualquer modelo único no conjunto. \n",
        "\n",
        "Stacking é um algoritmo de **aprendizado de máquina conjunto** que aprende a melhor previsões de vários modelos de aprendizado de máquina com bom desempenho.\n",
        "\n",
        "Como usar conjuntos de empilhamento para modelagem preditiva de regressão e classificação. \n",
        "\n"
      ],
      "metadata": {
        "id": "13P-CyH1VTqy"
      }
    },
    {
      "cell_type": "code",
      "execution_count": null,
      "metadata": {
        "id": "keM2zwtaT3YN"
      },
      "outputs": [],
      "source": [
        "# compare standalone models for binaey classification \n",
        "\n",
        "#analise de dados\n",
        "from numpy import mean\n",
        "from numpy import std\n",
        "from sklearn.datasets import make_classification\n",
        "from matplotlib import pyplot\n",
        "\n",
        "\n",
        "#processamento de dados\n",
        "from sklearn.model_selection import cross_val_score\n",
        "from sklearn.model_selection import RepeatedStratifiedKFold\n",
        "\n",
        "#baseline\n",
        "from sklearn.linear_model import LogisticRegression\n",
        "from sklearn.neighbors import KNeighborsClassifier\n",
        "from sklearn.svm import SVC\n",
        "from sklearn.naive_bayes import GaussianNB\n",
        "from sklearn.tree import DecisionTreeClassifier\n",
        "\n",
        "#MP definitva\n",
        "from sklearn.ensemble import StackingClassifier\n",
        "\n"
      ]
    },
    {
      "cell_type": "code",
      "source": [
        "# get the datasets\n",
        "\n",
        "def get_dataset():\n",
        "    X, y = make_classification(n_samples=1000, n_features=20, n_informative=15, n_redundant=5, random_state=1)\n",
        "    return X, y\n",
        "\n",
        "# get a list of models to evaluate\n",
        "\n",
        "def get_models():\n",
        "    models = dict()\n",
        "    models['lr'] = LogisticRegression()\n",
        "    models['knn'] = KNeighborsClassifier()\n",
        "    models['cart'] = DecisionTreeClassifier()\n",
        "    models['svm'] = SVC()\n",
        "    models['bayes'] = GaussianNB()\n",
        "    return models \n",
        "\n",
        "#evaluate a given model using cross-validation\n",
        "\n",
        "def evaluate_model(model, X, y):\n",
        "    #define the evaluation procedure\n",
        "    cv = RepeatedStratifiedKFold(n_splits=10, n_repeats=3, random_state=1)\n",
        "    #evaluate the model and collect the results\n",
        "    scores = cross_val_score(model, X, y, scoring='accuracy', cv=cv, n_jobs=-1)\n",
        "    return scores\n",
        "\n"
      ],
      "metadata": {
        "id": "KQp5wG5xssXP"
      },
      "execution_count": null,
      "outputs": []
    },
    {
      "cell_type": "code",
      "source": [
        "# define dataset\n",
        "X, y = get_dataset()\n",
        "# get the models to evaluate\n",
        "models = get_models()\n",
        "\n",
        "#evaluate the models and store results(\n",
        "results, names = list(), list()\n",
        "\n",
        "for name, model in models.items():\n",
        "    #evaluate the model\n",
        "\n",
        "    scores = evaluate_model(model, X, y)\n",
        "    #store the results\n",
        "    results.append(scores)\n",
        "    names.append(name)\n",
        "    #summarize the performance along the way\n",
        "    print('>%s %.3f (%.3f)' % (name, mean(scores),std(scores)))\n",
        "    #plot model performance for comparison\n",
        "pyplot.boxplot(results, labels=names, showmeans=True)\n",
        "pyplot.show()"
      ],
      "metadata": {
        "colab": {
          "base_uri": "https://localhost:8080/",
          "height": 354
        },
        "id": "xg5DNcMlvBXn",
        "outputId": "f0c39bb4-842d-4c5d-f086-beeebdbdd822"
      },
      "execution_count": null,
      "outputs": [
        {
          "output_type": "stream",
          "name": "stdout",
          "text": [
            ">lr 0.866 (0.029)\n",
            ">knn 0.931 (0.025)\n",
            ">cart 0.824 (0.045)\n",
            ">svm 0.957 (0.020)\n",
            ">bayes 0.833 (0.031)\n"
          ]
        },
        {
          "output_type": "display_data",
          "data": {
            "text/plain": [
              "<Figure size 432x288 with 1 Axes>"
            ],
            "image/png": "[encoded data removed]"
          },
          "metadata": {
            "needs_background": "light"
          }
        }
      ]
    },
    {
      "cell_type": "code",
      "source": [
        "# get a stacking ensemble of models\n",
        "\n",
        "def get_stacking():\n",
        "    \n",
        "    \n",
        "    #define the base models\n",
        "    level0 = list()\n",
        "    level0.append(('lr', LogisticRegression()))\n",
        "    level0.append(('knn', KNeighborsClassifier()))\n",
        "    level0.append(('cart', DecisionTreeClassifier()))\n",
        "    level0.append(('svm', SVC()))\n",
        "    level0.append(('bayes', GaussianNB()))\n",
        "\n",
        "    #define meta learner model --> trocar os algoritmos\n",
        "    level1 = LogisticRegression()\n",
        "    \n",
        "    #define the stacking ensemble\n",
        "    model = StackingClassifier(estimators=level0, final_estimator=level1, cv=5)\n",
        "    return model\n",
        "\n",
        "\n",
        "\n",
        "    #get a list of models to evaluate\n",
        "def get_models():\n",
        "    models = dict()\n",
        "    models['lr'] = LogisticRegression()\n",
        "    models['knn'] = KNeighborsClassifier()\n",
        "    models['cart'] = DecisionTreeClassifier()\n",
        "    models['svm'] = SVC()\n",
        "    models['bayes'] = GaussianNB()\n",
        "    models['stacking'] = get_stacking()\n",
        "    return models\n",
        "\n",
        "#evaluate a given model using cross-validation\n",
        "def evaluate_model(model, X, y):\n",
        "  #define the evaluation procedure\n",
        "  cv = RepeatedStratifiedKFold(n_splits=10, n_repeats=3, random_state=1)\n",
        "  # evaluate the model and collect the results\n",
        "  scores = cross_val_score(model, X, y, scoring='accuracy', cv=cv, n_jobs=-1) #posso trocar o scoring tambem \n",
        "  return scores \n",
        "\n",
        "#define dataset\n",
        "X, y = get_dataset()\n",
        "#get the models to evaluate\n",
        "models = get_models()\n",
        "#evaluate the models and store results\n",
        "results, names = list(), list()\n",
        "for name, model in models.items():\n",
        "    #evaluate the model\n",
        "    scores = evaluate_model(model, X, y)\n",
        "    #store the results \n",
        "    results.append(scores)\n",
        "    names.append(name)\n",
        "    #summarize the perfomance along the way\n",
        "    print('>%s %.3f (%.3f)' % (name, mean(scores), std(scores)))\n",
        "#plt model performance for comparison\n",
        "pyplot.boxplot(results, labels=names, showmeans=True)\n",
        "pyplot.show()"
      ],
      "metadata": {
        "colab": {
          "base_uri": "https://localhost:8080/",
          "height": 370
        },
        "id": "b4vWMGxKyFFk",
        "outputId": "32111167-db85-470a-9cf4-875d567e9d26"
      },
      "execution_count": null,
      "outputs": [
        {
          "output_type": "stream",
          "name": "stdout",
          "text": [
            ">lr 0.866 (0.029)\n",
            ">knn 0.931 (0.025)\n",
            ">cart 0.826 (0.043)\n",
            ">svm 0.957 (0.020)\n",
            ">bayes 0.833 (0.031)\n",
            ">stacking 0.965 (0.019)\n"
          ]
        },
        {
          "output_type": "display_data",
          "data": {
            "text/plain": [
              "<Figure size 432x288 with 1 Axes>"
            ],
            "image/png": "[encoded data removed]"
          },
          "metadata": {
            "needs_background": "light"
          }
        }
      ]
    },
    {
      "cell_type": "code",
      "source": [
        "#make a prediction with a stacking ensemble\n",
        "from sklearn.datasets import make_classification\n",
        "from sklearn.ensemble import StackingClassifier\n",
        "from sklearn.linear_model import LogisticRegression\n",
        "from sklearn.neighbors import KNeighborsClassifier\n",
        "from sklearn.tree import DecisionTreeClassifier\n",
        "from sklearn.svm import SVC\n",
        "from sklearn.naive_bayes import GaussianNB\n",
        "\n",
        "#define dataset\n",
        "X, y = make_classification(n_samples=1000, n_features=20, n_informative=15, n_redundant=5, random_state=1)\n",
        "#define the base models\n",
        "level0 = list()\n",
        "level0.append(('lr', LogisticRegression()))\n",
        "level0.append(('knn', KNeighborsClassifier()))\n",
        "level0.append(('cart', DecisionTreeClassifier()))\n",
        "level0.append(('svm', SVC()))\n",
        "level0.append(('bayes', GaussianNB()))\n",
        "#define meta learner model\n",
        "level1 = LogisticRegression()\n",
        "#define the stacking ensemble\n",
        "model = StackingClassifier(estimators=level0, final_estimator=level1, cv=5)\n",
        "#fit the model on available data\n",
        "model.fit(X, y)\n",
        "\n",
        "#make a prediction for one example \n",
        "row = [2.47475454, 0.40165523, 1.68081787, 2.88940715, 0.91704519, -3.07950644, 4.39961206, 0.72464273, -4.86563631, -6.06338084, -1.22209949, -0.4699618, 1.01222748, -0.6899355, -0.53000581, 6.86966784, -3.27211075, -6.59044146, -2.2190585, -3.139579]\n",
        "yhat = model.predict([row])\n",
        "#summarize prediction\n",
        "print('Predict Class: %d' %(yhat))"
      ],
      "metadata": {
        "colab": {
          "base_uri": "https://localhost:8080/"
        },
        "id": "-EdZY2du4oyx",
        "outputId": "2d5fca82-fa5e-436f-d0f9-0b9dd4fa5524"
      },
      "execution_count": null,
      "outputs": [
        {
          "output_type": "stream",
          "name": "stdout",
          "text": [
            "Predict Class: 0\n"
          ]
        }
      ]
    }
  ]
}